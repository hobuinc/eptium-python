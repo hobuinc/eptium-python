{
 "cells": [
  {
   "cell_type": "markdown",
   "metadata": {},
   "source": [
    "# Introduction"
   ]
  },
  {
   "cell_type": "code",
   "execution_count": 2,
   "metadata": {},
   "outputs": [
    {
     "data": {
      "application/vnd.jupyter.widget-view+json": {
       "model_id": "fd0cbf5e0b0c400ea6b05419fc8316c4",
       "version_major": 2,
       "version_minor": 0
      },
      "text/plain": [
       "Eptium(value=None, src='https://viewer.copc.io/#eyJyYW1wcyI6IFt7ImlkIjogImJsYWNrLXRvLXdoaXRlIiwgIm5hbWUiOiAiQm…"
      ]
     },
     "execution_count": 2,
     "metadata": {},
     "output_type": "execute_result"
    }
   ],
   "source": [
    "import eptium\n",
    "w = eptium.Eptium()\n",
    "w.render(\n",
    "    \"https://s3.amazonaws.com/hobu-lidar/autzen-classified.copc.laz\"\n",
    ")\n",
    "w"
   ]
  },
  {
   "cell_type": "code",
   "execution_count": 3,
   "metadata": {},
   "outputs": [
    {
     "name": "stdout",
     "output_type": "stream",
     "text": [
      "Help on method render in module eptium.widget:\n",
      "\n",
      "render(\n",
      "    path: str | pathlib._local.Path | list[str | pathlib._local.Path],\n",
      "    height: str | int = '600px',\n",
      "    color_on: str = 'elevation',\n",
      "    color_ramp: str | None = None,\n",
      "    viewBounds: tuple[float, float, float, float] | None = None,\n",
      "    wireFrame: bool = False\n",
      ") method of eptium.widget.Eptium instance\n",
      "    Method to call to generate the Eptium View\n",
      "\n",
      "    Parameters\n",
      "    ----------\n",
      "    path : str | pathlib.Path\n",
      "        Path to the asset that Eptium should display. Acceptable\n",
      "        values include local file paths, or URLs to\n",
      "    height : int | str\n",
      "        Accepted values are used to set the ``height`` attribute\n",
      "        of an iframe.  Defaults to ``600px``.\n",
      "    color_on : str\n",
      "        Attribute to set the coloring based off.  Possible values include\n",
      "          * rgb\n",
      "          * elevation (default)\n",
      "          * intensity\n",
      "          * classification\n",
      "          * return-type\n",
      "          * return-number\n",
      "          * return-count\n",
      "          * scan-angle\n",
      "          * post-source-id\n",
      "          * fixed\n",
      "    color_ramp : str\n",
      "        Color ramp to set the coloring based off.  Possible values include\n",
      "          * black-to-white\n",
      "          * blue-to-red\n",
      "          * pink-to-yellow\n",
      "\n",
      "        Default value depends on what the ``color_on`` attribute is set to.\n",
      "        This setting only applies to ``color_on`` attributes that are continuous.\n",
      "        Those include\n",
      "          * elevation\n",
      "          * intensity\n",
      "          * scan-angle\n",
      "    viewBounds : (float, float, float, float), Optional\n",
      "        Bounding box in EPSG:4326 to set the initial view to.  If not specified,\n",
      "        view will center about the resource being displayed.\n",
      "    wireFrame : bool, default False\n",
      "        Draw the wire frame around the item being displayed.\n",
      "\n"
     ]
    }
   ],
   "source": [
    "help(w.render)"
   ]
  }
 ],
 "metadata": {
  "kernelspec": {
   "display_name": "Python 3 (ipykernel)",
   "language": "python",
   "name": "python3"
  },
  "language_info": {
   "codemirror_mode": {
    "name": "ipython",
    "version": 3
   },
   "file_extension": ".py",
   "mimetype": "text/x-python",
   "name": "python",
   "nbconvert_exporter": "python",
   "pygments_lexer": "ipython3",
   "version": "3.13.1"
  }
 },
 "nbformat": 4,
 "nbformat_minor": 4
}
