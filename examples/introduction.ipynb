{
 "cells": [
  {
   "cell_type": "markdown",
   "metadata": {},
   "source": [
    "# Introduction"
   ]
  },
  {
   "cell_type": "markdown",
   "metadata": {},
   "source": [
    "## With the Jupyter Viewer we can post URL to a publicly available point cloud as an argument to the `.render()` method, and "
   ]
  },
  {
   "cell_type": "code",
   "execution_count": 5,
   "metadata": {},
   "outputs": [
    {
     "data": {
      "text/html": [
       "\n",
       "        <iframe\n",
       "            width=\"100%\"\n",
       "            height=\"600px\"\n",
       "            src=\"https://viewer.copc.io/#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\"\n",
       "            frameborder=\"0\"\n",
       "            allowfullscreen\n",
       "            \n",
       "        ></iframe>\n",
       "        "
      ],
      "text/plain": [
       "<IPython.lib.display.IFrame at 0x106e18b30>"
      ]
     },
     "execution_count": 5,
     "metadata": {},
     "output_type": "execute_result"
    }
   ],
   "source": [
    "import eptium\n",
    "w = eptium.Eptium()\n",
    "w.render(\n",
    "    \"https://s3.amazonaws.com/hobu-lidar/autzen-classified.copc.laz\",\n",
    "    color_ramp_pc='viridis'\n",
    ")"
   ]
  },
  {
   "cell_type": "code",
   "execution_count": null,
   "metadata": {},
   "outputs": [],
   "source": []
  },
  {
   "cell_type": "code",
   "execution_count": 4,
   "metadata": {},
   "outputs": [
    {
     "name": "stdout",
     "output_type": "stream",
     "text": [
      "Help on method render in module eptium.widget:\n",
      "\n",
      "render(path: str | pathlib.Path | list[str | pathlib.Path], height: str | int = '600px', color_on: str = 'elevation', color_ramp_pc: str | None = None, color_ramp_raster: str | None = None, viewBounds: tuple[float, float, float, float] | None = None, wireFrame: bool = False) method of eptium.widget.Eptium instance\n",
      "    Method to call to generate the Eptium View\n",
      "\n",
      "    Parameters\n",
      "    ----------\n",
      "    path : str | pathlib.Path\n",
      "        Path to the asset that Eptium should display. Acceptable\n",
      "        values include local file paths, or URLs to\n",
      "    height : int | str, default='600px'\n",
      "        Accepted values are used to set the ``height`` attribute\n",
      "        of an iframe.\n",
      "    color_on : str, default='elevation'\n",
      "        Attribute to set the coloring based off.  Possible values include\n",
      "\n",
      "        * rgb\n",
      "        * elevation (default)\n",
      "        * intensity\n",
      "        * classification\n",
      "        * return-type\n",
      "        * return-number\n",
      "        * return-count\n",
      "        * scan-angle\n",
      "        * post-source-id\n",
      "        * fixed\n",
      "\n",
      "    color_ramp_pc : str\n",
      "        Color ramp to set the coloring for point clouds when coloring on\n",
      "        a continuous attribute.  Possible values include\n",
      "\n",
      "        * viridis\n",
      "        * magma\n",
      "        * plasma\n",
      "        * inferno\n",
      "        * cividis\n",
      "        * turbo\n",
      "        * dem-screen\n",
      "        * usgs\n",
      "        * black-to-white\n",
      "        * blue-to-red\n",
      "        * pink-to-yellow\n",
      "\n",
      "    color_ramp_raster : str, default='dem-screen'\n",
      "        Color ramp to set the coloring for rasters when coloring on a\n",
      "        continuous attribute. Possible values include\n",
      "\n",
      "        * viridis\n",
      "        * magma\n",
      "        * plasma\n",
      "        * inferno\n",
      "        * cividis\n",
      "        * turbo\n",
      "        * dem-screen\n",
      "        * usgs\n",
      "        * black-to-white\n",
      "        * blue-to-red\n",
      "        * pink-to-yellow\n",
      "\n",
      "    viewBounds : (float, float, float, float), Optional, default=None\n",
      "        Bounding box in EPSG:4326 to set the initial view to.  If not specified,\n",
      "        view will center about the resource being displayed.\n",
      "    wireFrame : bool, default False\n",
      "        Draw the wire frame around the item being displayed.\n",
      "\n"
     ]
    }
   ],
   "source": [
    "help(w.render)"
   ]
  }
 ],
 "metadata": {
  "kernelspec": {
   "display_name": "Python 3 (ipykernel)",
   "language": "python",
   "name": "python3"
  },
  "language_info": {
   "codemirror_mode": {
    "name": "ipython",
    "version": 3
   },
   "file_extension": ".py",
   "mimetype": "text/x-python",
   "name": "python",
   "nbconvert_exporter": "python",
   "pygments_lexer": "ipython3",
   "version": "3.12.9"
  }
 },
 "nbformat": 4,
 "nbformat_minor": 4
}
